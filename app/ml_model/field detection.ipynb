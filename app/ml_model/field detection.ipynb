{
 "cells": [
  {
   "cell_type": "markdown",
   "id": "sonic-purse",
   "metadata": {},
   "source": [
    "# Auto detect PDF fields"
   ]
  },
  {
   "cell_type": "code",
   "execution_count": 1,
   "id": "voluntary-fleece",
   "metadata": {},
   "outputs": [],
   "source": [
    "import pandas as pd\n",
    "import numpy as np\n",
    "import matplotlib.pyplot as plt\n",
    "%matplotlib inline"
   ]
  },
  {
   "cell_type": "markdown",
   "id": "8f9257b5",
   "metadata": {},
   "source": [
    "# 1. Prepare Data\n",
    "\n",
    "    - split the data into features and labels\n",
    "    - filling missing values\n",
    "    - feature encoding"
   ]
  },
  {
   "cell_type": "code",
   "execution_count": 2,
   "id": "standard-variety",
   "metadata": {},
   "outputs": [],
   "source": [
    "markup_data = pd.read_csv(\"training.csv\")"
   ]
  },
  {
   "cell_type": "code",
   "execution_count": 3,
   "id": "35915731",
   "metadata": {},
   "outputs": [],
   "source": [
    "# fill missng values\n",
    "markup_data[\"FieldCode\"].fillna(\"N/A\", inplace=True)\n",
    "markup_data[\"Prefix\"].fillna(\"N/A\", inplace=True)\n",
    "markup_data[\"Suffix\"].fillna(\"N/A\", inplace=True)"
   ]
  },
  {
   "cell_type": "code",
   "execution_count": 4,
   "id": "2f76d2a6",
   "metadata": {},
   "outputs": [
    {
     "data": {
      "text/plain": [
       "Index(['FileName', 'PageNum', 'LineLeft', 'LineRight', 'LineTop', 'LineBottom',\n",
       "       'LineWidth', 'TopElement', 'LeftPadding', 'RightPadding', 'HasCentLine',\n",
       "       'HasComboLine', 'FieldWidth', 'FieldHeight', 'Prefix', 'PrefixGap',\n",
       "       'Suffix', 'SuffixGap', 'FieldCode', 'FieldLeft', 'FieldRight',\n",
       "       'FieldTop', 'FieldBottom', 'IsMarkupField'],\n",
       "      dtype='object')"
      ]
     },
     "execution_count": 4,
     "metadata": {},
     "output_type": "execute_result"
    }
   ],
   "source": [
    "markup_data.dropna(inplace=True)\n",
    "markup_data.columns"
   ]
  },
  {
   "cell_type": "code",
   "execution_count": 5,
   "id": "a79de1b3",
   "metadata": {},
   "outputs": [],
   "source": [
    "markup_data[\"HasCentLine\"] = markup_data[\"HasCentLine\"].astype(int)\n",
    "markup_data[\"HasComboLine\"] = markup_data[\"HasComboLine\"].astype(int)\n",
    "markup_data[\"IsMarkupField\"] = markup_data[\"IsMarkupField\"].astype(int)"
   ]
  },
  {
   "cell_type": "code",
   "execution_count": 6,
   "id": "230022c3",
   "metadata": {},
   "outputs": [
    {
     "data": {
      "text/html": [
       "<div>\n",
       "<style scoped>\n",
       "    .dataframe tbody tr th:only-of-type {\n",
       "        vertical-align: middle;\n",
       "    }\n",
       "\n",
       "    .dataframe tbody tr th {\n",
       "        vertical-align: top;\n",
       "    }\n",
       "\n",
       "    .dataframe thead th {\n",
       "        text-align: right;\n",
       "    }\n",
       "</style>\n",
       "<table border=\"1\" class=\"dataframe\">\n",
       "  <thead>\n",
       "    <tr style=\"text-align: right;\">\n",
       "      <th></th>\n",
       "      <th>LineWidth</th>\n",
       "      <th>TopElement</th>\n",
       "      <th>LeftPadding</th>\n",
       "      <th>RightPadding</th>\n",
       "      <th>HasCentLine</th>\n",
       "      <th>HasComboLine</th>\n",
       "      <th>FieldWidth</th>\n",
       "      <th>FieldHeight</th>\n",
       "      <th>PrefixGap</th>\n",
       "      <th>SuffixGap</th>\n",
       "    </tr>\n",
       "  </thead>\n",
       "  <tbody>\n",
       "    <tr>\n",
       "      <th>0</th>\n",
       "      <td>0.0</td>\n",
       "      <td>None</td>\n",
       "      <td>0.0</td>\n",
       "      <td>0.0</td>\n",
       "      <td>0</td>\n",
       "      <td>0</td>\n",
       "      <td>44.270</td>\n",
       "      <td>24.000</td>\n",
       "      <td>0.0</td>\n",
       "      <td>0.0</td>\n",
       "    </tr>\n",
       "    <tr>\n",
       "      <th>1</th>\n",
       "      <td>0.0</td>\n",
       "      <td>Line</td>\n",
       "      <td>0.0</td>\n",
       "      <td>0.0</td>\n",
       "      <td>0</td>\n",
       "      <td>0</td>\n",
       "      <td>44.270</td>\n",
       "      <td>14.162</td>\n",
       "      <td>0.0</td>\n",
       "      <td>0.0</td>\n",
       "    </tr>\n",
       "    <tr>\n",
       "      <th>2</th>\n",
       "      <td>0.0</td>\n",
       "      <td>Line</td>\n",
       "      <td>0.0</td>\n",
       "      <td>0.0</td>\n",
       "      <td>0</td>\n",
       "      <td>0</td>\n",
       "      <td>50.548</td>\n",
       "      <td>1.905</td>\n",
       "      <td>0.0</td>\n",
       "      <td>0.0</td>\n",
       "    </tr>\n",
       "    <tr>\n",
       "      <th>3</th>\n",
       "      <td>0.0</td>\n",
       "      <td>Line</td>\n",
       "      <td>0.0</td>\n",
       "      <td>0.0</td>\n",
       "      <td>0</td>\n",
       "      <td>0</td>\n",
       "      <td>50.548</td>\n",
       "      <td>14.162</td>\n",
       "      <td>0.0</td>\n",
       "      <td>0.0</td>\n",
       "    </tr>\n",
       "    <tr>\n",
       "      <th>4</th>\n",
       "      <td>0.5</td>\n",
       "      <td>Text</td>\n",
       "      <td>0.0</td>\n",
       "      <td>0.0</td>\n",
       "      <td>0</td>\n",
       "      <td>0</td>\n",
       "      <td>60.100</td>\n",
       "      <td>61.634</td>\n",
       "      <td>0.0</td>\n",
       "      <td>0.0</td>\n",
       "    </tr>\n",
       "  </tbody>\n",
       "</table>\n",
       "</div>"
      ],
      "text/plain": [
       "   LineWidth TopElement  LeftPadding  RightPadding  HasCentLine  HasComboLine  \\\n",
       "0        0.0       None          0.0           0.0            0             0   \n",
       "1        0.0       Line          0.0           0.0            0             0   \n",
       "2        0.0       Line          0.0           0.0            0             0   \n",
       "3        0.0       Line          0.0           0.0            0             0   \n",
       "4        0.5       Text          0.0           0.0            0             0   \n",
       "\n",
       "   FieldWidth  FieldHeight  PrefixGap  SuffixGap  \n",
       "0      44.270       24.000        0.0        0.0  \n",
       "1      44.270       14.162        0.0        0.0  \n",
       "2      50.548        1.905        0.0        0.0  \n",
       "3      50.548       14.162        0.0        0.0  \n",
       "4      60.100       61.634        0.0        0.0  "
      ]
     },
     "execution_count": 6,
     "metadata": {},
     "output_type": "execute_result"
    }
   ],
   "source": [
    "x = markup_data.drop(labels=['FileName', 'PageNum', 'LineLeft', 'LineRight', 'LineTop', 'LineBottom','Prefix','Suffix','FieldCode','FieldLeft',\n",
    "   'FieldRight', 'FieldTop', 'FieldBottom', \"IsMarkupField\"], axis=1)\n",
    "x.head()"
   ]
  },
  {
   "cell_type": "code",
   "execution_count": 7,
   "id": "8294e961",
   "metadata": {},
   "outputs": [
    {
     "data": {
      "text/plain": [
       "477649"
      ]
     },
     "execution_count": 7,
     "metadata": {},
     "output_type": "execute_result"
    }
   ],
   "source": [
    "len(x)"
   ]
  },
  {
   "cell_type": "code",
   "execution_count": 8,
   "id": "6fd0496c",
   "metadata": {},
   "outputs": [],
   "source": [
    "y = markup_data[\"IsMarkupField\"]"
   ]
  },
  {
   "cell_type": "markdown",
   "id": "1ef99272",
   "metadata": {},
   "source": [
    "# 2. Modeling"
   ]
  },
  {
   "cell_type": "code",
   "execution_count": 9,
   "id": "ecea02e7",
   "metadata": {},
   "outputs": [
    {
     "data": {
      "text/plain": [
       "((382119, 10), (95530, 10), (382119,), (95530,))"
      ]
     },
     "execution_count": 9,
     "metadata": {},
     "output_type": "execute_result"
    }
   ],
   "source": [
    "# split the data into training and test sets\n",
    "from sklearn.model_selection import train_test_split\n",
    "x_train, x_test, y_train, y_test = train_test_split(x, y, test_size=0.2)\n",
    "x_train.shape, x_test.shape, y_train.shape, y_test.shape"
   ]
  },
  {
   "cell_type": "code",
   "execution_count": 10,
   "id": "5b147ccf",
   "metadata": {},
   "outputs": [
    {
     "data": {
      "text/html": [
       "<div>\n",
       "<style scoped>\n",
       "    .dataframe tbody tr th:only-of-type {\n",
       "        vertical-align: middle;\n",
       "    }\n",
       "\n",
       "    .dataframe tbody tr th {\n",
       "        vertical-align: top;\n",
       "    }\n",
       "\n",
       "    .dataframe thead th {\n",
       "        text-align: right;\n",
       "    }\n",
       "</style>\n",
       "<table border=\"1\" class=\"dataframe\">\n",
       "  <thead>\n",
       "    <tr style=\"text-align: right;\">\n",
       "      <th></th>\n",
       "      <th>0</th>\n",
       "      <th>1</th>\n",
       "      <th>2</th>\n",
       "      <th>3</th>\n",
       "      <th>4</th>\n",
       "      <th>5</th>\n",
       "      <th>6</th>\n",
       "      <th>7</th>\n",
       "      <th>8</th>\n",
       "      <th>9</th>\n",
       "      <th>10</th>\n",
       "    </tr>\n",
       "  </thead>\n",
       "  <tbody>\n",
       "    <tr>\n",
       "      <th>0</th>\n",
       "      <td>-1.0</td>\n",
       "      <td>-1.0</td>\n",
       "      <td>0.00</td>\n",
       "      <td>0.0</td>\n",
       "      <td>0.0</td>\n",
       "      <td>0.0</td>\n",
       "      <td>0.0</td>\n",
       "      <td>370.020000</td>\n",
       "      <td>12.0000</td>\n",
       "      <td>0.0</td>\n",
       "      <td>0.0000</td>\n",
       "    </tr>\n",
       "    <tr>\n",
       "      <th>1</th>\n",
       "      <td>-1.0</td>\n",
       "      <td>-1.0</td>\n",
       "      <td>0.50</td>\n",
       "      <td>0.0</td>\n",
       "      <td>0.0</td>\n",
       "      <td>0.0</td>\n",
       "      <td>0.0</td>\n",
       "      <td>81.500000</td>\n",
       "      <td>12.0000</td>\n",
       "      <td>0.0</td>\n",
       "      <td>8.4976</td>\n",
       "    </tr>\n",
       "    <tr>\n",
       "      <th>2</th>\n",
       "      <td>-1.0</td>\n",
       "      <td>-1.0</td>\n",
       "      <td>0.50</td>\n",
       "      <td>0.0</td>\n",
       "      <td>0.0</td>\n",
       "      <td>0.0</td>\n",
       "      <td>1.0</td>\n",
       "      <td>132.480000</td>\n",
       "      <td>12.0000</td>\n",
       "      <td>0.0</td>\n",
       "      <td>0.0000</td>\n",
       "    </tr>\n",
       "    <tr>\n",
       "      <th>3</th>\n",
       "      <td>-1.0</td>\n",
       "      <td>-1.0</td>\n",
       "      <td>0.25</td>\n",
       "      <td>0.0</td>\n",
       "      <td>0.0</td>\n",
       "      <td>0.0</td>\n",
       "      <td>0.0</td>\n",
       "      <td>18.250000</td>\n",
       "      <td>18.0004</td>\n",
       "      <td>0.0</td>\n",
       "      <td>2.8790</td>\n",
       "    </tr>\n",
       "    <tr>\n",
       "      <th>4</th>\n",
       "      <td>-1.0</td>\n",
       "      <td>-1.0</td>\n",
       "      <td>0.50</td>\n",
       "      <td>0.0</td>\n",
       "      <td>0.0</td>\n",
       "      <td>0.0</td>\n",
       "      <td>0.0</td>\n",
       "      <td>72.000006</td>\n",
       "      <td>12.0000</td>\n",
       "      <td>0.0</td>\n",
       "      <td>0.0000</td>\n",
       "    </tr>\n",
       "  </tbody>\n",
       "</table>\n",
       "</div>"
      ],
      "text/plain": [
       "    0    1     2    3    4    5    6           7        8    9       10\n",
       "0 -1.0 -1.0  0.00  0.0  0.0  0.0  0.0  370.020000  12.0000  0.0  0.0000\n",
       "1 -1.0 -1.0  0.50  0.0  0.0  0.0  0.0   81.500000  12.0000  0.0  8.4976\n",
       "2 -1.0 -1.0  0.50  0.0  0.0  0.0  1.0  132.480000  12.0000  0.0  0.0000\n",
       "3 -1.0 -1.0  0.25  0.0  0.0  0.0  0.0   18.250000  18.0004  0.0  2.8790\n",
       "4 -1.0 -1.0  0.50  0.0  0.0  0.0  0.0   72.000006  12.0000  0.0  0.0000"
      ]
     },
     "execution_count": 10,
     "metadata": {},
     "output_type": "execute_result"
    }
   ],
   "source": [
    "from sklearn.feature_extraction import FeatureHasher\n",
    "from sklearn.compose import ColumnTransformer\n",
    "\n",
    "transformer = ColumnTransformer([(\"hash\", FeatureHasher(n_features=2, input_type='string'), 'TopElement')], remainder=\"passthrough\")\n",
    "transformed_x_train = transformer.fit_transform(x_train)\n",
    "pd.DataFrame(transformed_x_train).head()"
   ]
  },
  {
   "cell_type": "code",
   "execution_count": 11,
   "id": "e13ffe11",
   "metadata": {},
   "outputs": [],
   "source": [
    "transformed_x_test = transformer.fit_transform(x_test)"
   ]
  },
  {
   "cell_type": "code",
   "execution_count": 12,
   "id": "65293221",
   "metadata": {},
   "outputs": [],
   "source": [
    "from sklearn.ensemble import RandomForestClassifier\n",
    "model = RandomForestClassifier(n_estimators=100)"
   ]
  },
  {
   "cell_type": "code",
   "execution_count": 13,
   "id": "b3a9aac0",
   "metadata": {},
   "outputs": [],
   "source": [
    "model.fit(transformed_x_train, y_train);"
   ]
  },
  {
   "cell_type": "code",
   "execution_count": 14,
   "id": "758c2530",
   "metadata": {},
   "outputs": [
    {
     "data": {
      "text/plain": [
       "0.973934889563488"
      ]
     },
     "execution_count": 14,
     "metadata": {},
     "output_type": "execute_result"
    }
   ],
   "source": [
    "model.score(transformed_x_test, y_test)"
   ]
  },
  {
   "cell_type": "code",
   "execution_count": 15,
   "id": "512a17b2",
   "metadata": {},
   "outputs": [
    {
     "data": {
      "text/plain": [
       "array([1.  , 0.  , 0.  , 0.3 , 1.  , 0.09, 0.  , 1.  , 1.  , 0.  ])"
      ]
     },
     "execution_count": 15,
     "metadata": {},
     "output_type": "execute_result"
    }
   ],
   "source": [
    "model.predict_proba(transformed_x_test[:10])[:,1]"
   ]
  },
  {
   "cell_type": "markdown",
   "id": "edfc4c5b",
   "metadata": {},
   "source": [
    "# 3. Evaluating"
   ]
  },
  {
   "cell_type": "code",
   "execution_count": 16,
   "id": "8649f268",
   "metadata": {},
   "outputs": [],
   "source": [
    "y_preds = model.predict(transformed_x_test)"
   ]
  },
  {
   "cell_type": "code",
   "execution_count": 17,
   "id": "9d1801d6",
   "metadata": {},
   "outputs": [],
   "source": [
    "from sklearn.metrics import accuracy_score"
   ]
  },
  {
   "cell_type": "code",
   "execution_count": 18,
   "id": "40785297",
   "metadata": {},
   "outputs": [
    {
     "data": {
      "text/plain": [
       "0.973934889563488"
      ]
     },
     "execution_count": 18,
     "metadata": {},
     "output_type": "execute_result"
    }
   ],
   "source": [
    "accuracy_score(y_test, y_preds)"
   ]
  },
  {
   "cell_type": "code",
   "execution_count": 19,
   "id": "1f4372d3",
   "metadata": {},
   "outputs": [
    {
     "data": {
      "text/plain": [
       "0.9278989516389247"
      ]
     },
     "execution_count": 19,
     "metadata": {},
     "output_type": "execute_result"
    }
   ],
   "source": [
    "from sklearn.model_selection import cross_val_score\n",
    "transformed_x = transformer.fit_transform(x)\n",
    "cv_score = cross_val_score(model, transformed_x, y, cv=5)\n",
    "np.mean(cv_score)"
   ]
  },
  {
   "cell_type": "code",
   "execution_count": 20,
   "id": "17a51e0f",
   "metadata": {},
   "outputs": [],
   "source": [
    "from sklearn.metrics import roc_curve\n",
    "y_preds_proba = model.predict_proba(transformed_x_test)[:,1]\n",
    "y_preds_proba[:10], len(y_preds_proba)\n",
    "false_positive_rate, true_postive_rate, thresholds = roc_curve(y_test, y_preds_proba)"
   ]
  },
  {
   "cell_type": "code",
   "execution_count": 21,
   "id": "c67b6c65",
   "metadata": {},
   "outputs": [
    {
     "data": {
      "image/png": "[encoded data removed]",
      "text/plain": [
       "<Figure size 720x432 with 1 Axes>"
      ]
     },
     "metadata": {
      "needs_background": "light"
     },
     "output_type": "display_data"
    }
   ],
   "source": [
    "def plot_roc_curve(false_positive_rate, true_postive_rate):\n",
    "    fig, ax = plt.subplots(figsize=(10,6))\n",
    "    ax.set(title=\"ROC Curve\", xlabel=\"False Positive Rate\", ylabel=\"True Positive Rate\");\n",
    "    ax.plot(false_positive_rate, true_postive_rate, color=\"orange\", label=\"ROC\")\n",
    "    ax.plot([0,1], [0,1], label=\"Gubessing\", color=\"darkblue\", linestyle=\"--\")\n",
    "    ax.legend()\n",
    "plot_roc_curve(false_positive_rate, true_postive_rate)"
   ]
  },
  {
   "cell_type": "code",
   "execution_count": 22,
   "id": "307e689f",
   "metadata": {},
   "outputs": [
    {
     "data": {
      "text/plain": [
       "0.9965925770581985"
      ]
     },
     "execution_count": 22,
     "metadata": {},
     "output_type": "execute_result"
    }
   ],
   "source": [
    "from sklearn.metrics import roc_auc_score\n",
    "roc_auc_score(y_test, y_preds_proba)"
   ]
  },
  {
   "cell_type": "code",
   "execution_count": 23,
   "id": "2b7c362d",
   "metadata": {
    "scrolled": true
   },
   "outputs": [
    {
     "data": {
      "text/html": [
       "<div>\n",
       "<style scoped>\n",
       "    .dataframe tbody tr th:only-of-type {\n",
       "        vertical-align: middle;\n",
       "    }\n",
       "\n",
       "    .dataframe tbody tr th {\n",
       "        vertical-align: top;\n",
       "    }\n",
       "\n",
       "    .dataframe thead th {\n",
       "        text-align: right;\n",
       "    }\n",
       "</style>\n",
       "<table border=\"1\" class=\"dataframe\">\n",
       "  <thead>\n",
       "    <tr style=\"text-align: right;\">\n",
       "      <th>Predicted</th>\n",
       "      <th>0</th>\n",
       "      <th>1</th>\n",
       "    </tr>\n",
       "    <tr>\n",
       "      <th>Actural</th>\n",
       "      <th></th>\n",
       "      <th></th>\n",
       "    </tr>\n",
       "  </thead>\n",
       "  <tbody>\n",
       "    <tr>\n",
       "      <th>0</th>\n",
       "      <td>48854</td>\n",
       "      <td>1506</td>\n",
       "    </tr>\n",
       "    <tr>\n",
       "      <th>1</th>\n",
       "      <td>984</td>\n",
       "      <td>44186</td>\n",
       "    </tr>\n",
       "  </tbody>\n",
       "</table>\n",
       "</div>"
      ],
      "text/plain": [
       "Predicted      0      1\n",
       "Actural                \n",
       "0          48854   1506\n",
       "1            984  44186"
      ]
     },
     "execution_count": 23,
     "metadata": {},
     "output_type": "execute_result"
    }
   ],
   "source": [
    "from sklearn.metrics import confusion_matrix\n",
    "confusion_matrix(y_test, y_preds)\n",
    "pd.crosstab(y_test, y_preds, rownames=[\"Actural\"], colnames=[\"Predicted\"])"
   ]
  },
  {
   "cell_type": "code",
   "execution_count": 24,
   "id": "fe9d3ba4",
   "metadata": {},
   "outputs": [
    {
     "data": {
      "image/png": "[encoded data removed]",
      "text/plain": [
       "<Figure size 432x288 with 2 Axes>"
      ]
     },
     "metadata": {
      "needs_background": "light"
     },
     "output_type": "display_data"
    }
   ],
   "source": [
    "from sklearn.metrics import plot_confusion_matrix\n",
    "plot_confusion_matrix(model, transformed_x_test, y_test);"
   ]
  },
  {
   "cell_type": "code",
   "execution_count": 25,
   "id": "8f2e2149",
   "metadata": {},
   "outputs": [
    {
     "name": "stdout",
     "output_type": "stream",
     "text": [
      "              precision    recall  f1-score   support\n",
      "\n",
      "           0       0.98      0.97      0.98     50360\n",
      "           1       0.97      0.98      0.97     45170\n",
      "\n",
      "    accuracy                           0.97     95530\n",
      "   macro avg       0.97      0.97      0.97     95530\n",
      "weighted avg       0.97      0.97      0.97     95530\n",
      "\n"
     ]
    }
   ],
   "source": [
    "from sklearn.metrics import classification_report\n",
    "print(classification_report(y_test, y_preds))"
   ]
  },
  {
   "cell_type": "markdown",
   "id": "77919279",
   "metadata": {},
   "source": [
    "# 4. Export the Model"
   ]
  },
  {
   "cell_type": "code",
   "execution_count": 26,
   "id": "70dff665",
   "metadata": {},
   "outputs": [],
   "source": [
    "import pickle\n",
    "pickle.dump(model, open(\"markup.pkl\", \"wb\"))"
   ]
  },
  {
   "cell_type": "code",
   "execution_count": null,
   "id": "ae47ad74",
   "metadata": {},
   "outputs": [],
   "source": []
  }
 ],
 "metadata": {
  "kernelspec": {
   "display_name": "Python 3",
   "language": "python",
   "name": "python3"
  },
  "language_info": {
   "codemirror_mode": {
    "name": "ipython",
    "version": 3
   },
   "file_extension": ".py",
   "mimetype": "text/x-python",
   "name": "python",
   "nbconvert_exporter": "python",
   "pygments_lexer": "ipython3",
   "version": "3.9.5"
  }
 },
 "nbformat": 4,
 "nbformat_minor": 5
}
